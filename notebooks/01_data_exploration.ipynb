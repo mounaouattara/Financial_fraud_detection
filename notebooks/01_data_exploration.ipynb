{
 "cells": [
  {
   "cell_type": "markdown",
   "id": "33b5b324",
   "metadata": {},
   "source": [
    "# 🧪 Analyse exploratoire des données - Fraud Detection"
   ]
  },
  {
   "cell_type": "code",
   "execution_count": null,
   "id": "5fa37215",
   "metadata": {},
   "outputs": [],
   "source": [
    "import pandas as pd\n",
    "import matplotlib.pyplot as plt\n",
    "import seaborn as sns\n",
    "\n",
    "%matplotlib inline"
   ]
  },
  {
   "cell_type": "code",
   "execution_count": null,
   "id": "c84386e1",
   "metadata": {},
   "outputs": [],
   "source": [
    "# Charger les données\n",
    "\n",
    "df = pd.read_csv('../../data/raw/creditcard.csv')\n",
    "df.head()"
   ]
  },
  {
   "cell_type": "code",
   "execution_count": null,
   "id": "8313d32c",
   "metadata": {},
   "outputs": [],
   "source": [
    "# Statistiques descriptives\n",
    "df.describe()"
   ]
  },
  {
   "cell_type": "code",
   "execution_count": null,
   "id": "fdd6403b",
   "metadata": {},
   "outputs": [],
   "source": [
    "# Répartition des classes\n",
    "sns.countplot(x='Class', data=df)\n",
    "plt.title('Répartition des classes')\n",
    "plt.show()"
   ]
  },
  {
   "cell_type": "code",
   "execution_count": null,
   "id": "41616a64",
   "metadata": {},
   "outputs": [],
   "source": [
    "# Corrélation entre les variables\n",
    "plt.figure(figsize=(12, 10))\n",
    "sns.heatmap(df.corr(), cmap='coolwarm', cbar=False)\n",
    "plt.title('Matrice de corrélation')\n",
    "plt.show()"
   ]
  },
  {
   "cell_type": "markdown",
   "id": "f8959b5a",
   "metadata": {},
   "source": [
    "**Conclusion** : on remarque que les classes sont fortement déséquilibrées. Les colonnes sont anonymisées, donc les noms ne sont pas parlants, mais la structure des données permet une modélisation efficace."
   ]
  }
 ],
 "metadata": {
  "language_info": {
   "name": "python"
  }
 },
 "nbformat": 4,
 "nbformat_minor": 5
}
